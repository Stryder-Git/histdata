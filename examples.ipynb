{
 "cells": [
  {
   "cell_type": "markdown",
   "id": "1f5db638",
   "metadata": {},
   "source": [
    "### Wrapper for ibapi to make requesting historical price data easier"
   ]
  },
  {
   "cell_type": "markdown",
   "id": "ca0e7ff5",
   "metadata": {},
   "source": [
    "To run this, you will require a running instance of the Trader Workstation of Interactive Brokers\n",
    "-> https://www.interactivebrokers.com/en/trading/tws-updateable-stable.php"
   ]
  },
  {
   "cell_type": "code",
   "execution_count": 1,
   "id": "63f41773",
   "metadata": {},
   "outputs": [],
   "source": [
    "from histdata import HistData\n",
    "import datetime as dt\n",
    "from time import sleep"
   ]
  },
  {
   "cell_type": "code",
   "execution_count": 2,
   "id": "58bf0bd8",
   "metadata": {
    "scrolled": false
   },
   "outputs": [],
   "source": [
    "hd = HistData(clientId= 1)"
   ]
  },
  {
   "cell_type": "code",
   "execution_count": 3,
   "id": "4565d857",
   "metadata": {},
   "outputs": [
    {
     "data": {
      "text/plain": [
       "True"
      ]
     },
     "execution_count": 3,
     "metadata": {},
     "output_type": "execute_result"
    }
   ],
   "source": [
    "hd.isConnected()"
   ]
  },
  {
   "cell_type": "markdown",
   "id": "a4533c9c",
   "metadata": {},
   "source": [
    "### What is the first available data according to IB?"
   ]
  },
  {
   "cell_type": "code",
   "execution_count": 4,
   "id": "b863ca89",
   "metadata": {},
   "outputs": [],
   "source": [
    "aapl = hd.getHead(\"aapl\") # this will return a Response object"
   ]
  },
  {
   "cell_type": "code",
   "execution_count": 5,
   "id": "a3d920de",
   "metadata": {
    "scrolled": false
   },
   "outputs": [
    {
     "data": {
      "text/plain": [
       "datetime.datetime(1980, 12, 12, 14, 30)"
      ]
     },
     "execution_count": 5,
     "metadata": {},
     "output_type": "execute_result"
    }
   ],
   "source": [
    "aapl.data"
   ]
  },
  {
   "cell_type": "code",
   "execution_count": 6,
   "id": "8be3818a",
   "metadata": {},
   "outputs": [],
   "source": [
    "aapl = hd.get(\"aapl\", \"1D\", aapl.data, \"1990-01-01\")"
   ]
  },
  {
   "cell_type": "code",
   "execution_count": 7,
   "id": "2f4316b1",
   "metadata": {},
   "outputs": [
    {
     "data": {
      "text/plain": [
       "True"
      ]
     },
     "execution_count": 7,
     "metadata": {},
     "output_type": "execute_result"
    }
   ],
   "source": [
    "aapl.success"
   ]
  },
  {
   "cell_type": "code",
   "execution_count": 8,
   "id": "4b9f5125",
   "metadata": {},
   "outputs": [
    {
     "data": {
      "text/html": [
       "<div>\n",
       "<style scoped>\n",
       "    .dataframe tbody tr th:only-of-type {\n",
       "        vertical-align: middle;\n",
       "    }\n",
       "\n",
       "    .dataframe tbody tr th {\n",
       "        vertical-align: top;\n",
       "    }\n",
       "\n",
       "    .dataframe thead th {\n",
       "        text-align: right;\n",
       "    }\n",
       "</style>\n",
       "<table border=\"1\" class=\"dataframe\">\n",
       "  <thead>\n",
       "    <tr style=\"text-align: right;\">\n",
       "      <th></th>\n",
       "      <th>open</th>\n",
       "      <th>high</th>\n",
       "      <th>low</th>\n",
       "      <th>close</th>\n",
       "      <th>volume</th>\n",
       "    </tr>\n",
       "    <tr>\n",
       "      <th>date</th>\n",
       "      <th></th>\n",
       "      <th></th>\n",
       "      <th></th>\n",
       "      <th></th>\n",
       "      <th></th>\n",
       "    </tr>\n",
       "  </thead>\n",
       "  <tbody>\n",
       "    <tr>\n",
       "      <th>1980-12-15</th>\n",
       "      <td>0.975</td>\n",
       "      <td>0.980</td>\n",
       "      <td>0.975</td>\n",
       "      <td>0.975</td>\n",
       "      <td>219856</td>\n",
       "    </tr>\n",
       "    <tr>\n",
       "      <th>1980-12-16</th>\n",
       "      <td>0.900</td>\n",
       "      <td>0.905</td>\n",
       "      <td>0.900</td>\n",
       "      <td>0.900</td>\n",
       "      <td>132160</td>\n",
       "    </tr>\n",
       "    <tr>\n",
       "      <th>1980-12-17</th>\n",
       "      <td>0.925</td>\n",
       "      <td>0.930</td>\n",
       "      <td>0.925</td>\n",
       "      <td>0.925</td>\n",
       "      <td>108052</td>\n",
       "    </tr>\n",
       "    <tr>\n",
       "      <th>1980-12-18</th>\n",
       "      <td>0.950</td>\n",
       "      <td>0.955</td>\n",
       "      <td>0.950</td>\n",
       "      <td>0.950</td>\n",
       "      <td>91812</td>\n",
       "    </tr>\n",
       "    <tr>\n",
       "      <th>1980-12-19</th>\n",
       "      <td>1.010</td>\n",
       "      <td>1.015</td>\n",
       "      <td>1.010</td>\n",
       "      <td>1.010</td>\n",
       "      <td>60788</td>\n",
       "    </tr>\n",
       "    <tr>\n",
       "      <th>...</th>\n",
       "      <td>...</td>\n",
       "      <td>...</td>\n",
       "      <td>...</td>\n",
       "      <td>...</td>\n",
       "      <td>...</td>\n",
       "    </tr>\n",
       "    <tr>\n",
       "      <th>1989-12-22</th>\n",
       "      <td>1.305</td>\n",
       "      <td>1.330</td>\n",
       "      <td>1.285</td>\n",
       "      <td>1.305</td>\n",
       "      <td>461468</td>\n",
       "    </tr>\n",
       "    <tr>\n",
       "      <th>1989-12-26</th>\n",
       "      <td>1.270</td>\n",
       "      <td>1.315</td>\n",
       "      <td>1.260</td>\n",
       "      <td>1.270</td>\n",
       "      <td>338212</td>\n",
       "    </tr>\n",
       "    <tr>\n",
       "      <th>1989-12-27</th>\n",
       "      <td>1.255</td>\n",
       "      <td>1.275</td>\n",
       "      <td>1.250</td>\n",
       "      <td>1.255</td>\n",
       "      <td>642516</td>\n",
       "    </tr>\n",
       "    <tr>\n",
       "      <th>1989-12-28</th>\n",
       "      <td>1.235</td>\n",
       "      <td>1.260</td>\n",
       "      <td>1.225</td>\n",
       "      <td>1.235</td>\n",
       "      <td>378140</td>\n",
       "    </tr>\n",
       "    <tr>\n",
       "      <th>1989-12-29</th>\n",
       "      <td>1.260</td>\n",
       "      <td>1.275</td>\n",
       "      <td>1.230</td>\n",
       "      <td>1.260</td>\n",
       "      <td>381024</td>\n",
       "    </tr>\n",
       "  </tbody>\n",
       "</table>\n",
       "<p>2285 rows × 5 columns</p>\n",
       "</div>"
      ],
      "text/plain": [
       "             open   high    low  close  volume\n",
       "date                                          \n",
       "1980-12-15  0.975  0.980  0.975  0.975  219856\n",
       "1980-12-16  0.900  0.905  0.900  0.900  132160\n",
       "1980-12-17  0.925  0.930  0.925  0.925  108052\n",
       "1980-12-18  0.950  0.955  0.950  0.950   91812\n",
       "1980-12-19  1.010  1.015  1.010  1.010   60788\n",
       "...           ...    ...    ...    ...     ...\n",
       "1989-12-22  1.305  1.330  1.285  1.305  461468\n",
       "1989-12-26  1.270  1.315  1.260  1.270  338212\n",
       "1989-12-27  1.255  1.275  1.250  1.255  642516\n",
       "1989-12-28  1.235  1.260  1.225  1.235  378140\n",
       "1989-12-29  1.260  1.275  1.230  1.260  381024\n",
       "\n",
       "[2285 rows x 5 columns]"
      ]
     },
     "execution_count": 8,
     "metadata": {},
     "output_type": "execute_result"
    }
   ],
   "source": [
    "aapl.data"
   ]
  },
  {
   "cell_type": "markdown",
   "id": "376babd1",
   "metadata": {},
   "source": [
    "##### But this does not apply to all timeframes"
   ]
  },
  {
   "cell_type": "code",
   "execution_count": 9,
   "id": "e2ffbc5b",
   "metadata": {},
   "outputs": [],
   "source": [
    "aapl = hd.get(\"aapl\", \"1h\", \"1980-12-12\", \"1985-01-01\")"
   ]
  },
  {
   "cell_type": "code",
   "execution_count": 10,
   "id": "6604e04e",
   "metadata": {},
   "outputs": [
    {
     "data": {
      "text/plain": [
       "False"
      ]
     },
     "execution_count": 10,
     "metadata": {},
     "output_type": "execute_result"
    }
   ],
   "source": [
    "aapl.success"
   ]
  },
  {
   "cell_type": "code",
   "execution_count": 11,
   "id": "21595f60",
   "metadata": {},
   "outputs": [
    {
     "data": {
      "text/html": [
       "<div>\n",
       "<style scoped>\n",
       "    .dataframe tbody tr th:only-of-type {\n",
       "        vertical-align: middle;\n",
       "    }\n",
       "\n",
       "    .dataframe tbody tr th {\n",
       "        vertical-align: top;\n",
       "    }\n",
       "\n",
       "    .dataframe thead th {\n",
       "        text-align: right;\n",
       "    }\n",
       "</style>\n",
       "<table border=\"1\" class=\"dataframe\">\n",
       "  <thead>\n",
       "    <tr style=\"text-align: right;\">\n",
       "      <th></th>\n",
       "      <th>open</th>\n",
       "      <th>high</th>\n",
       "      <th>low</th>\n",
       "      <th>close</th>\n",
       "      <th>volume</th>\n",
       "    </tr>\n",
       "    <tr>\n",
       "      <th>date</th>\n",
       "      <th></th>\n",
       "      <th></th>\n",
       "      <th></th>\n",
       "      <th></th>\n",
       "      <th></th>\n",
       "    </tr>\n",
       "  </thead>\n",
       "  <tbody>\n",
       "  </tbody>\n",
       "</table>\n",
       "</div>"
      ],
      "text/plain": [
       "Empty DataFrame\n",
       "Columns: [open, high, low, close, volume]\n",
       "Index: []"
      ]
     },
     "execution_count": 11,
     "metadata": {},
     "output_type": "execute_result"
    }
   ],
   "source": [
    "aapl.data"
   ]
  },
  {
   "cell_type": "markdown",
   "id": "adccbd33",
   "metadata": {},
   "source": [
    "### Use the .find_first method to run a binary search on the available data of a specified timeframe"
   ]
  },
  {
   "cell_type": "code",
   "execution_count": 12,
   "id": "8b8a484c",
   "metadata": {},
   "outputs": [],
   "source": [
    "aapl = hd.find_first(\"aapl\", \"1h\")"
   ]
  },
  {
   "cell_type": "code",
   "execution_count": 13,
   "id": "2efcca15",
   "metadata": {},
   "outputs": [
    {
     "data": {
      "text/plain": [
       "datetime.datetime(2004, 1, 26, 0, 0)"
      ]
     },
     "execution_count": 13,
     "metadata": {},
     "output_type": "execute_result"
    }
   ],
   "source": [
    "aapl.data"
   ]
  },
  {
   "cell_type": "code",
   "execution_count": 14,
   "id": "2b8153f2",
   "metadata": {},
   "outputs": [],
   "source": [
    "aapl = hd.get(\"aapl\", \"1h\", aapl.data, aapl.data + dt.timedelta(days= 180))"
   ]
  },
  {
   "cell_type": "code",
   "execution_count": 15,
   "id": "53aaf221",
   "metadata": {},
   "outputs": [
    {
     "data": {
      "text/plain": [
       "True"
      ]
     },
     "execution_count": 15,
     "metadata": {},
     "output_type": "execute_result"
    }
   ],
   "source": [
    "aapl.success"
   ]
  },
  {
   "cell_type": "code",
   "execution_count": 16,
   "id": "cfe40bba",
   "metadata": {
    "scrolled": true
   },
   "outputs": [
    {
     "data": {
      "text/html": [
       "<div>\n",
       "<style scoped>\n",
       "    .dataframe tbody tr th:only-of-type {\n",
       "        vertical-align: middle;\n",
       "    }\n",
       "\n",
       "    .dataframe tbody tr th {\n",
       "        vertical-align: top;\n",
       "    }\n",
       "\n",
       "    .dataframe thead th {\n",
       "        text-align: right;\n",
       "    }\n",
       "</style>\n",
       "<table border=\"1\" class=\"dataframe\">\n",
       "  <thead>\n",
       "    <tr style=\"text-align: right;\">\n",
       "      <th></th>\n",
       "      <th>open</th>\n",
       "      <th>high</th>\n",
       "      <th>low</th>\n",
       "      <th>close</th>\n",
       "      <th>volume</th>\n",
       "    </tr>\n",
       "    <tr>\n",
       "      <th>date</th>\n",
       "      <th></th>\n",
       "      <th></th>\n",
       "      <th></th>\n",
       "      <th></th>\n",
       "      <th></th>\n",
       "    </tr>\n",
       "  </thead>\n",
       "  <tbody>\n",
       "    <tr>\n",
       "      <th>2004-01-26 09:00:00</th>\n",
       "      <td>0.80</td>\n",
       "      <td>0.81</td>\n",
       "      <td>0.80</td>\n",
       "      <td>0.81</td>\n",
       "      <td>130564</td>\n",
       "    </tr>\n",
       "    <tr>\n",
       "      <th>2004-01-26 10:00:00</th>\n",
       "      <td>0.81</td>\n",
       "      <td>0.81</td>\n",
       "      <td>0.80</td>\n",
       "      <td>0.81</td>\n",
       "      <td>209300</td>\n",
       "    </tr>\n",
       "    <tr>\n",
       "      <th>2004-01-26 11:00:00</th>\n",
       "      <td>0.81</td>\n",
       "      <td>0.82</td>\n",
       "      <td>0.81</td>\n",
       "      <td>0.81</td>\n",
       "      <td>168896</td>\n",
       "    </tr>\n",
       "    <tr>\n",
       "      <th>2004-01-26 12:00:00</th>\n",
       "      <td>0.81</td>\n",
       "      <td>0.82</td>\n",
       "      <td>0.81</td>\n",
       "      <td>0.81</td>\n",
       "      <td>127764</td>\n",
       "    </tr>\n",
       "    <tr>\n",
       "      <th>2004-01-26 13:00:00</th>\n",
       "      <td>0.81</td>\n",
       "      <td>0.82</td>\n",
       "      <td>0.81</td>\n",
       "      <td>0.82</td>\n",
       "      <td>110740</td>\n",
       "    </tr>\n",
       "    <tr>\n",
       "      <th>...</th>\n",
       "      <td>...</td>\n",
       "      <td>...</td>\n",
       "      <td>...</td>\n",
       "      <td>...</td>\n",
       "      <td>...</td>\n",
       "    </tr>\n",
       "    <tr>\n",
       "      <th>2004-07-23 15:00:00</th>\n",
       "      <td>1.10</td>\n",
       "      <td>1.10</td>\n",
       "      <td>1.09</td>\n",
       "      <td>1.10</td>\n",
       "      <td>324828</td>\n",
       "    </tr>\n",
       "    <tr>\n",
       "      <th>2004-07-23 16:00:00</th>\n",
       "      <td>1.09</td>\n",
       "      <td>1.10</td>\n",
       "      <td>1.09</td>\n",
       "      <td>1.10</td>\n",
       "      <td>17780</td>\n",
       "    </tr>\n",
       "    <tr>\n",
       "      <th>2004-07-23 17:00:00</th>\n",
       "      <td>1.10</td>\n",
       "      <td>1.10</td>\n",
       "      <td>1.09</td>\n",
       "      <td>1.09</td>\n",
       "      <td>1176</td>\n",
       "    </tr>\n",
       "    <tr>\n",
       "      <th>2004-07-23 18:00:00</th>\n",
       "      <td>1.10</td>\n",
       "      <td>1.10</td>\n",
       "      <td>1.10</td>\n",
       "      <td>1.10</td>\n",
       "      <td>56</td>\n",
       "    </tr>\n",
       "    <tr>\n",
       "      <th>2004-07-23 19:00:00</th>\n",
       "      <td>1.10</td>\n",
       "      <td>1.10</td>\n",
       "      <td>1.10</td>\n",
       "      <td>1.10</td>\n",
       "      <td>0</td>\n",
       "    </tr>\n",
       "  </tbody>\n",
       "</table>\n",
       "<p>1433 rows × 5 columns</p>\n",
       "</div>"
      ],
      "text/plain": [
       "                     open  high   low  close  volume\n",
       "date                                                \n",
       "2004-01-26 09:00:00  0.80  0.81  0.80   0.81  130564\n",
       "2004-01-26 10:00:00  0.81  0.81  0.80   0.81  209300\n",
       "2004-01-26 11:00:00  0.81  0.82  0.81   0.81  168896\n",
       "2004-01-26 12:00:00  0.81  0.82  0.81   0.81  127764\n",
       "2004-01-26 13:00:00  0.81  0.82  0.81   0.82  110740\n",
       "...                   ...   ...   ...    ...     ...\n",
       "2004-07-23 15:00:00  1.10  1.10  1.09   1.10  324828\n",
       "2004-07-23 16:00:00  1.09  1.10  1.09   1.10   17780\n",
       "2004-07-23 17:00:00  1.10  1.10  1.09   1.09    1176\n",
       "2004-07-23 18:00:00  1.10  1.10  1.10   1.10      56\n",
       "2004-07-23 19:00:00  1.10  1.10  1.10   1.10       0\n",
       "\n",
       "[1433 rows x 5 columns]"
      ]
     },
     "execution_count": 16,
     "metadata": {},
     "output_type": "execute_result"
    }
   ],
   "source": [
    "aapl.data"
   ]
  },
  {
   "cell_type": "markdown",
   "id": "cff0f889",
   "metadata": {},
   "source": [
    "---\n",
    "### Up to now, HistData was in blocking mode:"
   ]
  },
  {
   "cell_type": "code",
   "execution_count": 17,
   "id": "f56b0c06",
   "metadata": {},
   "outputs": [
    {
     "data": {
      "text/plain": [
       "True"
      ]
     },
     "execution_count": 17,
     "metadata": {},
     "output_type": "execute_result"
    }
   ],
   "source": [
    "hd.blocks"
   ]
  },
  {
   "cell_type": "code",
   "execution_count": 18,
   "id": "ffd09e29",
   "metadata": {},
   "outputs": [
    {
     "data": {
      "text/plain": [
       "False"
      ]
     },
     "execution_count": 18,
     "metadata": {},
     "output_type": "execute_result"
    }
   ],
   "source": [
    "hd.block(False)\n",
    "\n",
    "hd.blocks"
   ]
  },
  {
   "cell_type": "code",
   "execution_count": 19,
   "id": "8fc4acc1",
   "metadata": {},
   "outputs": [
    {
     "data": {
      "text/plain": [
       "True"
      ]
     },
     "execution_count": 19,
     "metadata": {},
     "output_type": "execute_result"
    }
   ],
   "source": [
    "hd.block()\n",
    "\n",
    "hd.blocks"
   ]
  },
  {
   "cell_type": "code",
   "execution_count": 20,
   "id": "ee394fb1",
   "metadata": {},
   "outputs": [
    {
     "data": {
      "text/plain": [
       "True"
      ]
     },
     "execution_count": 20,
     "metadata": {},
     "output_type": "execute_result"
    }
   ],
   "source": [
    "aapl = hd.get(\"aapl\", \"1h\", \"2005-01-01\", \"2006-01-01\") # this blocks until the data is received\n",
    "aapl.ready  # so this is only run when it's ready"
   ]
  },
  {
   "cell_type": "code",
   "execution_count": 21,
   "id": "4cf91667",
   "metadata": {
    "scrolled": true
   },
   "outputs": [
    {
     "name": "stdout",
     "output_type": "stream",
     "text": [
      "False\n",
      "waiting\n",
      "waiting\n",
      "waiting\n",
      "received:\n"
     ]
    },
    {
     "data": {
      "text/html": [
       "<div>\n",
       "<style scoped>\n",
       "    .dataframe tbody tr th:only-of-type {\n",
       "        vertical-align: middle;\n",
       "    }\n",
       "\n",
       "    .dataframe tbody tr th {\n",
       "        vertical-align: top;\n",
       "    }\n",
       "\n",
       "    .dataframe thead th {\n",
       "        text-align: right;\n",
       "    }\n",
       "</style>\n",
       "<table border=\"1\" class=\"dataframe\">\n",
       "  <thead>\n",
       "    <tr style=\"text-align: right;\">\n",
       "      <th></th>\n",
       "      <th>open</th>\n",
       "      <th>high</th>\n",
       "      <th>low</th>\n",
       "      <th>close</th>\n",
       "      <th>volume</th>\n",
       "    </tr>\n",
       "    <tr>\n",
       "      <th>date</th>\n",
       "      <th></th>\n",
       "      <th></th>\n",
       "      <th></th>\n",
       "      <th></th>\n",
       "      <th></th>\n",
       "    </tr>\n",
       "  </thead>\n",
       "  <tbody>\n",
       "    <tr>\n",
       "      <th>2004-01-23 09:00:00</th>\n",
       "      <td>0.79</td>\n",
       "      <td>0.81</td>\n",
       "      <td>0.79</td>\n",
       "      <td>0.80</td>\n",
       "      <td>124712</td>\n",
       "    </tr>\n",
       "    <tr>\n",
       "      <th>2004-01-23 10:00:00</th>\n",
       "      <td>0.80</td>\n",
       "      <td>0.81</td>\n",
       "      <td>0.80</td>\n",
       "      <td>0.81</td>\n",
       "      <td>184912</td>\n",
       "    </tr>\n",
       "    <tr>\n",
       "      <th>2004-01-23 11:00:00</th>\n",
       "      <td>0.81</td>\n",
       "      <td>0.81</td>\n",
       "      <td>0.80</td>\n",
       "      <td>0.81</td>\n",
       "      <td>130508</td>\n",
       "    </tr>\n",
       "    <tr>\n",
       "      <th>2004-01-23 12:00:00</th>\n",
       "      <td>0.81</td>\n",
       "      <td>0.81</td>\n",
       "      <td>0.80</td>\n",
       "      <td>0.80</td>\n",
       "      <td>160804</td>\n",
       "    </tr>\n",
       "    <tr>\n",
       "      <th>2004-01-23 13:00:00</th>\n",
       "      <td>0.81</td>\n",
       "      <td>0.81</td>\n",
       "      <td>0.80</td>\n",
       "      <td>0.80</td>\n",
       "      <td>59192</td>\n",
       "    </tr>\n",
       "    <tr>\n",
       "      <th>...</th>\n",
       "      <td>...</td>\n",
       "      <td>...</td>\n",
       "      <td>...</td>\n",
       "      <td>...</td>\n",
       "      <td>...</td>\n",
       "    </tr>\n",
       "    <tr>\n",
       "      <th>2004-12-31 15:00:00</th>\n",
       "      <td>2.31</td>\n",
       "      <td>2.32</td>\n",
       "      <td>2.30</td>\n",
       "      <td>2.30</td>\n",
       "      <td>282212</td>\n",
       "    </tr>\n",
       "    <tr>\n",
       "      <th>2004-12-31 16:00:00</th>\n",
       "      <td>2.30</td>\n",
       "      <td>2.30</td>\n",
       "      <td>2.29</td>\n",
       "      <td>2.30</td>\n",
       "      <td>69356</td>\n",
       "    </tr>\n",
       "    <tr>\n",
       "      <th>2004-12-31 17:00:00</th>\n",
       "      <td>2.30</td>\n",
       "      <td>2.30</td>\n",
       "      <td>2.30</td>\n",
       "      <td>2.30</td>\n",
       "      <td>336</td>\n",
       "    </tr>\n",
       "    <tr>\n",
       "      <th>2004-12-31 18:00:00</th>\n",
       "      <td>2.30</td>\n",
       "      <td>2.30</td>\n",
       "      <td>2.30</td>\n",
       "      <td>2.30</td>\n",
       "      <td>23184</td>\n",
       "    </tr>\n",
       "    <tr>\n",
       "      <th>2004-12-31 19:00:00</th>\n",
       "      <td>2.30</td>\n",
       "      <td>2.30</td>\n",
       "      <td>2.30</td>\n",
       "      <td>2.30</td>\n",
       "      <td>0</td>\n",
       "    </tr>\n",
       "  </tbody>\n",
       "</table>\n",
       "<p>2776 rows × 5 columns</p>\n",
       "</div>"
      ],
      "text/plain": [
       "                     open  high   low  close  volume\n",
       "date                                                \n",
       "2004-01-23 09:00:00  0.79  0.81  0.79   0.80  124712\n",
       "2004-01-23 10:00:00  0.80  0.81  0.80   0.81  184912\n",
       "2004-01-23 11:00:00  0.81  0.81  0.80   0.81  130508\n",
       "2004-01-23 12:00:00  0.81  0.81  0.80   0.80  160804\n",
       "2004-01-23 13:00:00  0.81  0.81  0.80   0.80   59192\n",
       "...                   ...   ...   ...    ...     ...\n",
       "2004-12-31 15:00:00  2.31  2.32  2.30   2.30  282212\n",
       "2004-12-31 16:00:00  2.30  2.30  2.29   2.30   69356\n",
       "2004-12-31 17:00:00  2.30  2.30  2.30   2.30     336\n",
       "2004-12-31 18:00:00  2.30  2.30  2.30   2.30   23184\n",
       "2004-12-31 19:00:00  2.30  2.30  2.30   2.30       0\n",
       "\n",
       "[2776 rows x 5 columns]"
      ]
     },
     "execution_count": 21,
     "metadata": {},
     "output_type": "execute_result"
    }
   ],
   "source": [
    "hd.block(False)\n",
    "\n",
    "aapl = hd.get(\"aapl\", \"1h\", \"2003-01-01\", \"2005-01-01\") # now it does not block\n",
    "\n",
    "print(aapl.ready) # and this shows you when the data has been received\n",
    "\n",
    "while not aapl.ready:\n",
    "    print(\"waiting\")\n",
    "    sleep(2)\n",
    "\n",
    "print(\"received:\")\n",
    "aapl.data"
   ]
  },
  {
   "cell_type": "markdown",
   "id": "dd1fccd3",
   "metadata": {},
   "source": [
    "#### When requesting a lot of data, IB will throttle or even time out you requests.\n",
    "#### HistData will split your requests to handle this issue."
   ]
  },
  {
   "cell_type": "code",
   "execution_count": 22,
   "id": "9bb0d5e2",
   "metadata": {},
   "outputs": [
    {
     "data": {
      "text/plain": [
       "2"
      ]
     },
     "execution_count": 22,
     "metadata": {},
     "output_type": "execute_result"
    }
   ],
   "source": [
    "aapl.nreqs # number of requests"
   ]
  },
  {
   "cell_type": "code",
   "execution_count": 23,
   "id": "317aceab",
   "metadata": {},
   "outputs": [
    {
     "data": {
      "text/plain": [
       "2.9005972146987915"
      ]
     },
     "execution_count": 23,
     "metadata": {},
     "output_type": "execute_result"
    }
   ],
   "source": [
    "aapl.speed # average speed"
   ]
  },
  {
   "cell_type": "code",
   "execution_count": 24,
   "id": "ce8cf829",
   "metadata": {},
   "outputs": [
    {
     "data": {
      "text/plain": [
       "[0.1390695571899414, 5.662124872207642]"
      ]
     },
     "execution_count": 24,
     "metadata": {},
     "output_type": "execute_result"
    }
   ],
   "source": [
    "aapl.get_speeds() # speed for each request"
   ]
  },
  {
   "cell_type": "code",
   "execution_count": 25,
   "id": "53baf84c",
   "metadata": {},
   "outputs": [
    {
     "data": {
      "text/plain": [
       "['No Data']"
      ]
     },
     "execution_count": 25,
     "metadata": {},
     "output_type": "execute_result"
    }
   ],
   "source": [
    "aapl.get_errors() # see if there are any errors"
   ]
  },
  {
   "cell_type": "code",
   "execution_count": 26,
   "id": "76ab1a55",
   "metadata": {},
   "outputs": [
    {
     "data": {
      "text/plain": [
       "[(22, 'No Data'), (23, None)]"
      ]
     },
     "execution_count": 26,
     "metadata": {},
     "output_type": "execute_result"
    }
   ],
   "source": [
    "aapl.get_errors(withid= True)"
   ]
  },
  {
   "cell_type": "markdown",
   "id": "c5ff28a6",
   "metadata": {},
   "source": [
    "----\n",
    "## Create a data saver"
   ]
  },
  {
   "cell_type": "code",
   "execution_count": 27,
   "id": "7c2c67f1",
   "metadata": {},
   "outputs": [],
   "source": [
    "from histdata import HistData\n",
    "import datetime as dt\n",
    "from time import sleep\n",
    "from itertools import product\n",
    "import logging\n",
    "import sys"
   ]
  },
  {
   "cell_type": "code",
   "execution_count": 28,
   "id": "c4073375",
   "metadata": {},
   "outputs": [],
   "source": [
    "handler = logging.StreamHandler(sys.stdout)\n",
    "logger = logging.getLogger(__name__)\n",
    "logger.addHandler(handler)"
   ]
  },
  {
   "cell_type": "code",
   "execution_count": 29,
   "id": "3d4bb611",
   "metadata": {},
   "outputs": [],
   "source": [
    "class Saver(HistData):\n",
    "    def get(self, *args, **kwargs):\n",
    "        logger.info(\"requesting %s %s\", *args[:2])\n",
    "        return super().get(*args, **kwargs)\n",
    "    \n",
    "    def _fn(self, r): \n",
    "        s = str(r.start).split(\" \")[0]\n",
    "        e = str(r.end).split(\" \")[0]\n",
    "        return f\"{r.sym}_{r.tf}_{s}_{e}.csv\"\n",
    "    \n",
    "    def response(self, r):\n",
    "        logger.info(\"received %s %s\", r.sym, r.tf)\n",
    "        if r:\n",
    "            fn = self._fn(r)\n",
    "            r.data.to_csv(fn)\n",
    "            logger.info(\"saved %s\", fn)\n",
    "        else:\n",
    "            logger.info(\"no data available: %s\", r.errors)"
   ]
  },
  {
   "cell_type": "code",
   "execution_count": 30,
   "id": "8bfed2c7",
   "metadata": {
    "scrolled": false
   },
   "outputs": [],
   "source": [
    "saver = Saver(clientId= 2)"
   ]
  },
  {
   "cell_type": "code",
   "execution_count": 31,
   "id": "570c46cf",
   "metadata": {},
   "outputs": [],
   "source": [
    "logger.setLevel(1)"
   ]
  },
  {
   "cell_type": "code",
   "execution_count": 32,
   "id": "a5fdfe0a",
   "metadata": {},
   "outputs": [],
   "source": [
    "saver.block(False)"
   ]
  },
  {
   "cell_type": "code",
   "execution_count": 33,
   "id": "ed53c663",
   "metadata": {},
   "outputs": [
    {
     "data": {
      "text/plain": [
       "False"
      ]
     },
     "execution_count": 33,
     "metadata": {},
     "output_type": "execute_result"
    }
   ],
   "source": [
    "saver.blocks"
   ]
  },
  {
   "cell_type": "code",
   "execution_count": 34,
   "id": "a00ad8b0",
   "metadata": {
    "scrolled": false
   },
   "outputs": [
    {
     "name": "stdout",
     "output_type": "stream",
     "text": [
      "requesting aapl 1D\n",
      "requesting aapl 30m\n",
      "requesting amzn 1D\n",
      "requesting amzn 30m\n",
      "requesting nvda 1D\n",
      "requesting nvda 30m\n",
      "received aapl 1D\n",
      "saved aapl_1D_2005-01-03_2005-12-30.csv\n",
      "received amzn 1D\n",
      "saved amzn_1D_2005-01-03_2005-12-30.csv\n",
      "received nvda 1D\n",
      "saved nvda_1D_2005-01-03_2005-12-30.csv\n",
      "received nvda 30m\n",
      "saved nvda_30m_2005-01-03_2005-12-30.csv\n",
      "received amzn 30m\n",
      "saved amzn_30m_2005-01-03_2005-12-30.csv\n",
      "received aapl 30m\n",
      "saved aapl_30m_2005-01-03_2005-12-30.csv\n"
     ]
    }
   ],
   "source": [
    "for sym, tf in product((\"aapl\", \"amzn\", \"nvda\"), (\"1D\", \"30m\")):\n",
    "        _ = saver.get(sym, tf, \"2005-01-01\", \"2006-01-01\")\n",
    "        "
   ]
  },
  {
   "cell_type": "code",
   "execution_count": null,
   "id": "6507927d",
   "metadata": {},
   "outputs": [],
   "source": []
  }
 ],
 "metadata": {
  "kernelspec": {
   "display_name": "histdata_venv",
   "language": "python",
   "name": "histdata_venv"
  },
  "language_info": {
   "codemirror_mode": {
    "name": "ipython",
    "version": 3
   },
   "file_extension": ".py",
   "mimetype": "text/x-python",
   "name": "python",
   "nbconvert_exporter": "python",
   "pygments_lexer": "ipython3",
   "version": "3.10.5"
  }
 },
 "nbformat": 4,
 "nbformat_minor": 5
}
